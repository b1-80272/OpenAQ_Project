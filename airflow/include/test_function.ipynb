{
 "cells": [
  {
   "cell_type": "code",
   "execution_count": 6,
   "id": "f2070b48-3ede-428d-a908-c4ad409ac818",
   "metadata": {},
   "outputs": [],
   "source": [
    "import time\n",
    "import os\n",
    "import json\n",
    "import requests\n",
    "from datetime import datetime, timedelta"
   ]
  },
  {
   "cell_type": "markdown",
   "id": "62ffbeb6-cbfd-49cb-ba3b-07a2ba588290",
   "metadata": {},
   "source": [
    "        url = f\"https://api.openaq.org/v2/measurements?location_id={location_id}&parameter={parameter}&date_from={date1}&date_to={date2}&limit=1000\"\n",
    "https://api.openaq.org/v2/measurements?location_id=67569&date_from=2024-01-01&date_to=2024-01-02&limit=1000\n",
    "\n",
    "\n",
    "https://api.openaq.org/v2/measurements?location_id={location_id}&parameter={parameter}&date_from={date1}&date_to={date2}&limit=1000"
   ]
  },
  {
   "cell_type": "code",
   "execution_count": 7,
   "id": "2d8443a2-b211-4ae7-9818-1aeb7b8d98f3",
   "metadata": {},
   "outputs": [],
   "source": [
    "    def save_data(parameter, location_id, tries):\n",
    "        print()\n",
    "        url = f\"https://api.openaq.org/v2/measurements?location_id={location_id}&parameter={parameter}&date_from={date1}&date_to={date2}&limit=1000\"\n",
    "        print(url)\n",
    "        response = requests.get(url)\n",
    "        if response.status_code == 200: # successful hit\n",
    "            print(f'Hit Success on location_id = {location_id} parameter = {parameter}')\n",
    "            # Access the response data in JSON format\n",
    "            data = response.json()\n",
    "            # check if you've got some data or not\n",
    "            if len(data['results']) > 0:\n",
    "                # with open(\n",
    "                #         f\"/home/sad7_5407/Desktop/Data_Engineering/data/{yr}/{mnt}/{dy}/{location_id}/{parameter}.json\",\n",
    "                #         'w') as file:\n",
    "                #     json.dump(data['results'], file, indent=2)\n",
    "                print(f'data/{yr}/{mnt}/{dy}/{location_id}/{parameter}.json saved locally....')\n",
    "            else:\n",
    "                print(f' -> -> Nothing on {url}')\n",
    "            time.sleep(1)\n",
    "        else: # hit error\n",
    "            print(\n",
    "                f\" >>>>>>>> Error in hit on location_id = {location_id} parameter = {parameter} tries = {tries} : {response.status_code}\")\n",
    "            if tries < 3:\n",
    "                time.sleep(31 + 10 * tries)\n",
    "                save_data(parameter, location_id, tries + 1)"
   ]
  },
  {
   "cell_type": "code",
   "execution_count": 8,
   "id": "e38d2bc4-080c-41ea-b1c4-5ac7c45bfcda",
   "metadata": {},
   "outputs": [],
   "source": [
    "\n",
    "    location_parameters = {\n",
    "        67569: ['um050', 'pressure', 'humidity', 'temperature', 'um005', 'um003', 'pm1', 'um025', 'um010', 'um100',\n",
    "                'pm25',\n",
    "                'pm10'],  # Bangalore\n",
    "        288233: [\"pm25\", \"um100\", \"pressure\", \"um010\", \"um025\", \"pm10\", \"um003\", \"humidity\", \"um005\", \"pm1\",\n",
    "                 \"temperature\",\n",
    "                 \"um050\"],  # Kalol, Gandhi Nagar\n",
    "        64931: [\"um100\", \"um050\", \"um005\", 'pm10', 'um025', 'pm1', 'pm25', 'um003', 'um010'],  # Bhatinda\n",
    "        66673: ['um003', 'um003', 'pm10', 'um005', 'pm25', 'um010''um100''pressure', 'um050', 'um025', 'pm1',\n",
    "                'temperature',\n",
    "                'humidity'],  # Hisar\n",
    "        8118: [\"pm25\"],  # New Delhi\n",
    "        62543: ['pressure', 'pm25', 'um010', 'humidity', 'um003', 'temperature', 'um100', 'um025', 'um050', 'um005',\n",
    "                'pm10',\n",
    "                'pm1'],  # Greater Kailash 2\n",
    "        1667903: ['um010', 'humidity', 'temperature', 'um050', 'pm1', 'um003', 'um005', 'pm25', 'pm10', 'um025',\n",
    "                  'pressure',\n",
    "                  'um100'],  # 15 Oak Drive Outdoor\n",
    "        362098: ['temperature', 'um050', 'pressure', 'um003', 'um005', 'humidity', 'um025', 'um100', 'um010', 'pm10',\n",
    "                 'pm1',\n",
    "                 'pm25'],  # Greater Noida\n",
    "        64934: ['pm10', 'um010', 'um100', 'um050', 'um005', 'pressure', 'um025', 'um003', 'temperature', 'pm1',\n",
    "                'humidity',\n",
    "                'pm25'],  # Tarkeshwar, West Bengal\n",
    "        8172: ['pm25'],  # Kolkata\n",
    "        220704: ['temperature', 'um010', 'pm10', 'pm25', 'pressure', 'um025', 'humidity', 'temperature', 'um003',\n",
    "                 'um100',\n",
    "                 'um050', 'um005', 'pm1'],  # Kharagpur, West Bengal\n",
    "        8039: ['pm25'],  # Mumbai\n",
    "        8557: ['pm25'],  # Hyderabad\n",
    "        63704: ['um003', 'um025', 'pm10', 'pm1', 'humidity', 'temperature', 'um010', 'um005', 'um050', 'pm25', 'um100',\n",
    "                'pressure'],  # Madikeri, Karnataka\n",
    "        229138: ['um050', 'pm10', 'temperature', 'humidity', 'pm1', 'um003', 'pressure', 'um025', 'um005', 'um010',\n",
    "                 'um100',\n",
    "                 'pm25'],  # Srinivaspur, Karnataka\n",
    "        8558: ['pm25']  # Chennai\n",
    "    }"
   ]
  },
  {
   "cell_type": "code",
   "execution_count": 13,
   "id": "ea4cac7c-0f04-458f-968f-de0f9672a1f6",
   "metadata": {},
   "outputs": [],
   "source": [
    "\n",
    "# get the execution date of the DAG\n",
    "# print(f'date1 = {date1}')\n",
    "date1 = '2024-02-01'\n",
    "date1 = datetime.strptime(date1, '%Y-%m-%d').date() # dag execution date\n",
    "date2 = date1 + timedelta(days=1) #next_day\n",
    "\n",
    "date1 = str(date1)[:10]\n",
    "date2 = str(date2)[:10]\n",
    "\n",
    "\n",
    "dy = date1[-2:]\n",
    "mnt = date1[5:7]\n",
    "yr = date1[:4]\n",
    "\n",
    "call = 0"
   ]
  },
  {
   "cell_type": "code",
   "execution_count": null,
   "id": "65b3c8f2-5ab5-4a47-bcd7-8a626455add7",
   "metadata": {},
   "outputs": [
    {
     "name": "stdout",
     "output_type": "stream",
     "text": [
      "\n",
      "https://api.openaq.org/v2/measurements?location_id=67569&parameter=um050&date_from=2024-02-01&date_to=2024-02-02&limit=1000\n",
      " >>>>>>>> Error in hit on location_id = 67569 parameter = um050 tries = 0 : 429\n",
      "\n",
      "https://api.openaq.org/v2/measurements?location_id=67569&parameter=um050&date_from=2024-02-01&date_to=2024-02-02&limit=1000\n"
     ]
    }
   ],
   "source": [
    "for location_id in location_parameters.keys():\n",
    "    # make the directory of location_id\n",
    "    # os.makedirs(f'/home/sad7_5407/Desktop/Data_Engineering/data/{yr}/{mnt}/{dy}/{location_id}', exist_ok=True)\n",
    "    for parameter in location_parameters[location_id]:\n",
    "        save_data(parameter, location_id, 0)\n",
    "        call += 1\n",
    "        if call % 3 == 0:\n",
    "            time.sleep(6)\n",
    "        print()"
   ]
  },
  {
   "cell_type": "code",
   "execution_count": null,
   "id": "8f9ad66a-a69e-4ac0-a5bb-8d55a537de93",
   "metadata": {},
   "outputs": [],
   "source": []
  }
 ],
 "metadata": {
  "kernelspec": {
   "display_name": "Python 3 (ipykernel)",
   "language": "python",
   "name": "python3"
  },
  "language_info": {
   "codemirror_mode": {
    "name": "ipython",
    "version": 3
   },
   "file_extension": ".py",
   "mimetype": "text/x-python",
   "name": "python",
   "nbconvert_exporter": "python",
   "pygments_lexer": "ipython3",
   "version": "3.10.12"
  }
 },
 "nbformat": 4,
 "nbformat_minor": 5
}
